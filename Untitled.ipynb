{
 "cells": [
  {
   "cell_type": "markdown",
   "id": "aff19a24",
   "metadata": {},
   "source": [
    "                                    Assignment 4 excel\n",
    "1)insert cells is used to find the insert and delete command in ribbon commands.\n",
    
    "2)if the row heights/columns width to 0 is set then  it sets to defaults width/heights.the column and rows will be hidden.\n",
    
    "3)yes there will be need to change the height and width in a cell because when we have a lengthy character or data we need to change the height and width.by default the cells height and width will be same.\n",
    
    "4)the shortcut to unide rows is ctrl+shift+9.\n",
    
    "5)first we have to select empty cells which we need to hide .click on find and select button,in that go to the special option.in that go to blanks .then press ctrl+9.\n",
    
    "6)select the rows and columns we want to hide  duplicates then click on conditional formatting  in the home tab. Then in that click on highlight cells rules,next click on duplicate values.then in duplicate values box select custom format in the values and then click ok. \n"
   ]
  }
 ],
 "metadata": {
  "kernelspec": {
   "display_name": "Python 3 (ipykernel)",
   "language": "python",
   "name": "python3"
  },
  "language_info": {
   "codemirror_mode": {
    "name": "ipython",
    "version": 3
   },
   "file_extension": ".py",
   "mimetype": "text/x-python",
   "name": "python",
   "nbconvert_exporter": "python",
   "pygments_lexer": "ipython3",
   "version": "3.9.13"
  }
 },
 "nbformat": 4,
 "nbformat_minor": 5
}
